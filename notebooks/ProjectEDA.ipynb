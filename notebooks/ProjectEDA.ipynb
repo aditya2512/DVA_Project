{
 "cells": [
  {
   "cell_type": "code",
   "execution_count": 14,
   "id": "initial_id",
   "metadata": {
    "ExecuteTime": {
     "end_time": "2023-11-02T15:26:10.085918Z",
     "start_time": "2023-11-02T15:26:09.988216Z"
    },
    "collapsed": true,
    "jupyter": {
     "outputs_hidden": true
    }
   },
   "outputs": [],
   "source": [
    "# Imports\n",
    "from pyspark.sql import SparkSession\n",
    "import zipfile\n",
    "from pyspark.sql.functions import *\n",
    "from pyspark.sql.window import Window\n",
    "\n",
    "import pandas as pd\n",
    "import matplotlib.pyplot as plt\n",
    "import matplotlib.dates as mdates\n",
    "\n",
    "from pyspark.sql.functions import udf\n",
    "from pyspark.sql.types import StringType\n",
    "from datetime import datetime, timedelta"
   ]
  },
  {
   "cell_type": "code",
   "execution_count": 15,
   "id": "f0ab6d13e6be3d05",
   "metadata": {
    "ExecuteTime": {
     "end_time": "2023-11-02T15:26:11.445405Z",
     "start_time": "2023-11-02T15:26:11.353521Z"
    },
    "collapsed": false,
    "jupyter": {
     "outputs_hidden": false
    }
   },
   "outputs": [],
   "source": [
    "# Creating a spark session\n",
    "spark_session = SparkSession.builder.appName(\"project_EDA\").getOrCreate()"
   ]
  },
  {
   "cell_type": "code",
   "execution_count": 16,
   "id": "dcfff42c30aa2132",
   "metadata": {
    "ExecuteTime": {
     "end_time": "2023-11-02T15:26:12.879563Z",
     "start_time": "2023-11-02T15:26:12.757595Z"
    },
    "collapsed": false,
    "jupyter": {
     "outputs_hidden": false
    }
   },
   "outputs": [
    {
     "data": {
      "text/html": [
       "\n",
       "            <div>\n",
       "                <p><b>SparkSession - hive</b></p>\n",
       "                \n",
       "        <div>\n",
       "            <p><b>SparkContext</b></p>\n",
       "\n",
       "            <p><a href=\"http://192.168.1.47:4046\">Spark UI</a></p>\n",
       "\n",
       "            <dl>\n",
       "              <dt>Version</dt>\n",
       "                <dd><code>v3.2.1</code></dd>\n",
       "              <dt>Master</dt>\n",
       "                <dd><code>local[*]</code></dd>\n",
       "              <dt>AppName</dt>\n",
       "                <dd><code>PySparkShell</code></dd>\n",
       "            </dl>\n",
       "        </div>\n",
       "        \n",
       "            </div>\n",
       "        "
      ],
      "text/plain": [
       "<pyspark.sql.session.SparkSession at 0x7fb79882d610>"
      ]
     },
     "execution_count": 16,
     "metadata": {},
     "output_type": "execute_result"
    }
   ],
   "source": [
    "spark_session"
   ]
  },
  {
   "cell_type": "code",
   "execution_count": 17,
   "id": "e6eda54ff2a0d179",
   "metadata": {
    "ExecuteTime": {
     "end_time": "2023-11-02T15:26:13.875175Z",
     "start_time": "2023-11-02T15:26:13.862665Z"
    },
    "collapsed": false,
    "jupyter": {
     "outputs_hidden": false
    }
   },
   "outputs": [],
   "source": [
    "# read data"
   ]
  },
  {
   "cell_type": "code",
   "execution_count": 18,
   "id": "7e6af0ff7b8308e4",
   "metadata": {
    "ExecuteTime": {
     "end_time": "2023-11-02T15:26:20.717976Z",
     "start_time": "2023-11-02T15:26:15.179775Z"
    },
    "collapsed": false,
    "jupyter": {
     "outputs_hidden": false
    }
   },
   "outputs": [],
   "source": [
    "df = spark_session.read.format(\"csv\").option(\"header\",\"true\").option(\"delimiter\", \",\").load(\"/Users/mudit.rathore/omscs/courses/cse_6242_DVA/project/data/*.csv\")"
   ]
  },
  {
   "cell_type": "code",
   "execution_count": 19,
   "id": "ef631250e2479356",
   "metadata": {
    "ExecuteTime": {
     "end_time": "2023-11-02T15:26:38.180294Z",
     "start_time": "2023-11-02T15:26:20.720049Z"
    },
    "collapsed": false,
    "jupyter": {
     "outputs_hidden": false
    }
   },
   "outputs": [
    {
     "data": {
      "text/plain": [
       "1639358"
      ]
     },
     "execution_count": 19,
     "metadata": {},
     "output_type": "execute_result"
    }
   ],
   "source": [
    "# total_distinct User count\n",
    "df.select(\"user_id\").distinct().count()"
   ]
  },
  {
   "cell_type": "code",
   "execution_count": 20,
   "id": "c103457005840ff5",
   "metadata": {
    "ExecuteTime": {
     "end_time": "2023-11-02T15:26:43.222675Z",
     "start_time": "2023-11-02T15:26:38.185677Z"
    },
    "collapsed": false,
    "jupyter": {
     "outputs_hidden": false
    }
   },
   "outputs": [
    {
     "data": {
      "text/plain": [
       "20692840"
      ]
     },
     "execution_count": 20,
     "metadata": {},
     "output_type": "execute_result"
    }
   ],
   "source": [
    "# total count\n",
    "df.count()"
   ]
  },
  {
   "cell_type": "code",
   "execution_count": 21,
   "id": "398aa9dad53ebc63",
   "metadata": {
    "ExecuteTime": {
     "end_time": "2023-11-02T15:26:43.372849Z",
     "start_time": "2023-11-02T15:26:43.240513Z"
    },
    "collapsed": false,
    "jupyter": {
     "outputs_hidden": false
    }
   },
   "outputs": [],
   "source": [
    "# cast schema to timestamp\n",
    "df = df.withColumn(\"event_time\", to_timestamp(col(\"event_time\")))"
   ]
  },
  {
   "cell_type": "code",
   "execution_count": 22,
   "id": "26e29177f8572b66",
   "metadata": {
    "ExecuteTime": {
     "end_time": "2023-11-02T15:26:44.106886Z",
     "start_time": "2023-11-02T15:26:43.376013Z"
    },
    "collapsed": false,
    "jupyter": {
     "outputs_hidden": false
    }
   },
   "outputs": [
    {
     "name": "stdout",
     "output_type": "stream",
     "text": [
      "+-------------------+----------------+----------+-------------------+-------------+---------+-----+---------+--------------------+\n",
      "|         event_time|      event_type|product_id|        category_id|category_code|    brand|price|  user_id|        user_session|\n",
      "+-------------------+----------------+----------+-------------------+-------------+---------+-----+---------+--------------------+\n",
      "|2019-12-01 05:30:00|remove_from_cart|   5712790|1487580005268456287|         null|    f.o.x| 6.27|576802932|51d85cb0-897f-48d...|\n",
      "|2019-12-01 05:30:00|            view|   5764655|1487580005411062629|         null|      cnd|29.05|412120092|8adff31e-2051-489...|\n",
      "|2019-12-01 05:30:02|            cart|      4958|1487580009471148064|         null|   runail| 1.19|494077766|c99a50e8-2fac-4c4...|\n",
      "|2019-12-01 05:30:05|            view|   5848413|1487580007675986893|         null|freedecor| 0.79|348405118|722ffea5-73c0-492...|\n",
      "|2019-12-01 05:30:07|            view|   5824148|1487580005511725929|         null|     null| 5.56|576005683|28172809-7e4a-45c...|\n",
      "|2019-12-01 05:30:09|            view|   5773361|1487580005134238553|         null|   runail| 2.62|560109803|38cf4ba1-4a0a-4c9...|\n",
      "|2019-12-01 05:30:18|            cart|   5629988|1487580009311764506|         null|     null| 1.19|579966747|1512be50-d0fd-4a9...|\n",
      "|2019-12-01 05:30:22|            view|   5807805|1487580005713052531|         null| ingarden| 4.44|576005683|28172809-7e4a-45c...|\n",
      "|2019-12-01 05:30:27|            view|   5588608|1487580008145748965|         null| roubloff| 5.40|546170008|676d9fcc-2a4f-444...|\n",
      "|2019-12-01 05:30:34|            cart|      5335|1487580009605365797|         null|   runail| 0.40|494077766|c99a50e8-2fac-4c4...|\n",
      "|2019-12-01 05:30:40|            cart|   5755170|1487580009387261981|         null|     null| 2.79|579751441|8de492d7-0937-47a...|\n",
      "|2019-12-01 05:30:44|remove_from_cart|   5650294|1487580007835370453|         null|  metzger| 3.33|576802932|51d85cb0-897f-48d...|\n",
      "|2019-12-01 05:30:45|            cart|   5755170|1487580009387261981|         null|     null| 2.79|579751441|8de492d7-0937-47a...|\n",
      "|2019-12-01 05:30:46|remove_from_cart|   5692261|1487580007835370453|         null|  staleks| 6.35|576802932|51d85cb0-897f-48d...|\n",
      "|2019-12-01 05:30:46|            view|   5798929|1783999068909863670|         null|   zinger| 6.19|579966747|1512be50-d0fd-4a9...|\n",
      "|2019-12-01 05:30:46|            cart|   5755170|1487580009387261981|         null|     null| 2.79|579751441|8de492d7-0937-47a...|\n",
      "|2019-12-01 05:30:49|remove_from_cart|   5694628|1487580007835370453|         null|     yoko| 3.65|576802932|51d85cb0-897f-48d...|\n",
      "|2019-12-01 05:30:50|            view|      3936|1487580005343953762|         null|   entity|10.95|579969717|006dd2fb-ae1e-446...|\n",
      "|2019-12-01 05:30:52|            cart|   5761411|1487580007432717250|         null| ingarden| 2.86|494077766|c99a50e8-2fac-4c4...|\n",
      "|2019-12-01 05:30:58|            cart|   5761411|1487580007432717250|         null| ingarden| 2.86|494077766|c99a50e8-2fac-4c4...|\n",
      "+-------------------+----------------+----------+-------------------+-------------+---------+-----+---------+--------------------+\n"
     ]
    }
   ],
   "source": [
    "df.show(20)"
   ]
  },
  {
   "cell_type": "code",
   "execution_count": 23,
   "id": "75e014b05e1b7908",
   "metadata": {
    "ExecuteTime": {
     "end_time": "2023-11-02T15:26:44.149242Z",
     "start_time": "2023-11-02T15:26:44.114622Z"
    },
    "collapsed": false,
    "jupyter": {
     "outputs_hidden": false
    }
   },
   "outputs": [
    {
     "name": "stdout",
     "output_type": "stream",
     "text": [
      "root\n",
      " |-- event_time: timestamp (nullable = true)\n",
      " |-- event_type: string (nullable = true)\n",
      " |-- product_id: string (nullable = true)\n",
      " |-- category_id: string (nullable = true)\n",
      " |-- category_code: string (nullable = true)\n",
      " |-- brand: string (nullable = true)\n",
      " |-- price: string (nullable = true)\n",
      " |-- user_id: string (nullable = true)\n",
      " |-- user_session: string (nullable = true)\n"
     ]
    }
   ],
   "source": [
    "df.printSchema()"
   ]
  },
  {
   "cell_type": "code",
   "execution_count": 24,
   "id": "f152ebb9ccd60a13",
   "metadata": {
    "ExecuteTime": {
     "end_time": "2023-11-02T15:26:44.376914Z",
     "start_time": "2023-11-02T15:26:44.139135Z"
    },
    "collapsed": false,
    "jupyter": {
     "outputs_hidden": false
    }
   },
   "outputs": [],
   "source": [
    "df = (df\n",
    "      .withColumn(\"date\", to_date(col(\"event_time\")))\n",
    "      .withColumn(\"single_date\", date_format(col(\"event_time\"), 'd'))\n",
    "      .withColumn(\"month\", date_format(col(\"event_time\"), 'M'))\n",
    "      .withColumn(\"year\", date_format(col(\"event_time\"), 'y'))\n",
    "      .withColumn(\"time\", date_format(col(\"event_time\"), 'HH:mm:ss'))\n",
    "      .withColumn(\"day_of_week\", date_format(col(\"event_time\"), 'E'))\n",
    "    )"
   ]
  },
  {
   "cell_type": "code",
   "execution_count": 25,
   "id": "6ecd31a5bb0d9230",
   "metadata": {
    "ExecuteTime": {
     "end_time": "2023-11-02T15:26:44.378144Z",
     "start_time": "2023-11-02T15:26:44.362420Z"
    },
    "collapsed": false,
    "jupyter": {
     "outputs_hidden": false
    }
   },
   "outputs": [
    {
     "name": "stdout",
     "output_type": "stream",
     "text": [
      "root\n",
      " |-- event_time: timestamp (nullable = true)\n",
      " |-- event_type: string (nullable = true)\n",
      " |-- product_id: string (nullable = true)\n",
      " |-- category_id: string (nullable = true)\n",
      " |-- category_code: string (nullable = true)\n",
      " |-- brand: string (nullable = true)\n",
      " |-- price: string (nullable = true)\n",
      " |-- user_id: string (nullable = true)\n",
      " |-- user_session: string (nullable = true)\n",
      " |-- date: date (nullable = true)\n",
      " |-- single_date: string (nullable = true)\n",
      " |-- month: string (nullable = true)\n",
      " |-- year: string (nullable = true)\n",
      " |-- time: string (nullable = true)\n",
      " |-- day_of_week: string (nullable = true)\n"
     ]
    }
   ],
   "source": [
    "df.printSchema()"
   ]
  },
  {
   "cell_type": "code",
   "execution_count": 13,
   "id": "64beac5b3dcf0d74",
   "metadata": {
    "ExecuteTime": {
     "end_time": "2023-10-30T18:20:07.531056Z",
     "start_time": "2023-10-30T18:20:07.522359Z"
    },
    "collapsed": false,
    "jupyter": {
     "outputs_hidden": false
    }
   },
   "outputs": [],
   "source": [
    "# # describe dataset\n",
    "# df.describe().show()"
   ]
  },
  {
   "cell_type": "code",
   "execution_count": 27,
   "id": "68eabd933edcd6b2",
   "metadata": {
    "ExecuteTime": {
     "end_time": "2023-11-02T15:27:25.025239Z",
     "start_time": "2023-11-02T15:27:24.944831Z"
    },
    "collapsed": false,
    "jupyter": {
     "outputs_hidden": false
    }
   },
   "outputs": [
    {
     "data": {
      "text/plain": [
       "['event_time',\n",
       " 'event_type',\n",
       " 'product_id',\n",
       " 'category_id',\n",
       " 'category_code',\n",
       " 'brand',\n",
       " 'price',\n",
       " 'user_id',\n",
       " 'user_session',\n",
       " 'date',\n",
       " 'single_date',\n",
       " 'month',\n",
       " 'year',\n",
       " 'time',\n",
       " 'day_of_week']"
      ]
     },
     "execution_count": 27,
     "metadata": {},
     "output_type": "execute_result"
    }
   ],
   "source": [
    "df.columns"
   ]
  },
  {
   "cell_type": "code",
   "execution_count": 26,
   "id": "40bcf4a21f8dd098",
   "metadata": {
    "ExecuteTime": {
     "end_time": "2023-11-02T15:26:45.406279Z",
     "start_time": "2023-11-02T15:26:44.376453Z"
    },
    "collapsed": false,
    "jupyter": {
     "outputs_hidden": false
    }
   },
   "outputs": [
    {
     "name": "stdout",
     "output_type": "stream",
     "text": [
      "+-------------------+----------------+----------+-------------------+-------------+---------+-----+---------+--------------------+----------+-----------+-----+----+--------+-----------+\n",
      "|         event_time|      event_type|product_id|        category_id|category_code|    brand|price|  user_id|        user_session|      date|single_date|month|year|    time|day_of_week|\n",
      "+-------------------+----------------+----------+-------------------+-------------+---------+-----+---------+--------------------+----------+-----------+-----+----+--------+-----------+\n",
      "|2019-12-01 05:30:00|remove_from_cart|   5712790|1487580005268456287|         null|    f.o.x| 6.27|576802932|51d85cb0-897f-48d...|2019-12-01|          1|   12|2019|05:30:00|        Sun|\n",
      "|2019-12-01 05:30:00|            view|   5764655|1487580005411062629|         null|      cnd|29.05|412120092|8adff31e-2051-489...|2019-12-01|          1|   12|2019|05:30:00|        Sun|\n",
      "|2019-12-01 05:30:02|            cart|      4958|1487580009471148064|         null|   runail| 1.19|494077766|c99a50e8-2fac-4c4...|2019-12-01|          1|   12|2019|05:30:02|        Sun|\n",
      "|2019-12-01 05:30:05|            view|   5848413|1487580007675986893|         null|freedecor| 0.79|348405118|722ffea5-73c0-492...|2019-12-01|          1|   12|2019|05:30:05|        Sun|\n",
      "|2019-12-01 05:30:07|            view|   5824148|1487580005511725929|         null|     null| 5.56|576005683|28172809-7e4a-45c...|2019-12-01|          1|   12|2019|05:30:07|        Sun|\n",
      "+-------------------+----------------+----------+-------------------+-------------+---------+-----+---------+--------------------+----------+-----------+-----+----+--------+-----------+\n"
     ]
    }
   ],
   "source": [
    "# viewing the dataset\n",
    "df.show(5)"
   ]
  },
  {
   "cell_type": "code",
   "execution_count": 15,
   "id": "acc7f0e079741081",
   "metadata": {
    "ExecuteTime": {
     "end_time": "2023-10-30T18:21:01.603651Z",
     "start_time": "2023-10-30T18:20:08.656612Z"
    },
    "collapsed": false,
    "jupyter": {
     "outputs_hidden": false
    }
   },
   "outputs": [
    {
     "name": "stdout",
     "output_type": "stream",
     "text": [
      "+----------+----------+----------+-----------+-------------+-------+-----+-------+------------+----+-----------+-----+----+----+-----------+\n",
      "|event_time|event_type|product_id|category_id|category_code|  brand|price|user_id|user_session|date|single_date|month|year|time|day_of_week|\n",
      "+----------+----------+----------+-----------+-------------+-------+-----+-------+------------+----+-----------+-----+----+----+-----------+\n",
      "|         0|         0|         0|          0|     20339246|8757117|    0|      0|        4598|   0|          0|    0|   0|   0|          0|\n",
      "+----------+----------+----------+-----------+-------------+-------+-----+-------+------------+----+-----------+-----+----+----+-----------+\n"
     ]
    }
   ],
   "source": [
    "# null in different columns\n",
    "df.select([count(when(col(c).isNull(), c)).alias(c) for c in df.columns]).show()"
   ]
  },
  {
   "cell_type": "markdown",
   "id": "e88f20b0c26819db",
   "metadata": {},
   "source": [
    "# Working with Distinct Users "
   ]
  },
  {
   "cell_type": "code",
   "execution_count": 28,
   "id": "dc9bda8000943dbe",
   "metadata": {
    "ExecuteTime": {
     "end_time": "2023-11-02T15:30:07.884426Z",
     "start_time": "2023-11-02T15:29:48.827565Z"
    },
    "collapsed": false,
    "jupyter": {
     "outputs_hidden": false
    }
   },
   "outputs": [
    {
     "data": {
      "text/plain": [
       "1639358"
      ]
     },
     "execution_count": 28,
     "metadata": {},
     "output_type": "execute_result"
    }
   ],
   "source": [
    "df.select(\"user_id\").distinct().count()"
   ]
  },
  {
   "cell_type": "markdown",
   "id": "71540ad70bba274c",
   "metadata": {},
   "source": [
    "# Working with distinct Product Ids"
   ]
  },
  {
   "cell_type": "code",
   "execution_count": 29,
   "id": "756200fc233f284",
   "metadata": {
    "ExecuteTime": {
     "end_time": "2023-11-02T15:30:25.571331Z",
     "start_time": "2023-11-02T15:30:07.880231Z"
    },
    "collapsed": false,
    "jupyter": {
     "outputs_hidden": false
    }
   },
   "outputs": [
    {
     "data": {
      "text/plain": [
       "54571"
      ]
     },
     "execution_count": 29,
     "metadata": {},
     "output_type": "execute_result"
    }
   ],
   "source": [
    "df.select(\"product_id\").distinct().count()"
   ]
  },
  {
   "cell_type": "markdown",
   "id": "2bca2d3fca4be4f4",
   "metadata": {},
   "source": [
    "# Working with Statistics\n",
    "## Average User Session daily, week, month, daily in a given month, weekly in a given month etc"
   ]
  },
  {
   "cell_type": "code",
   "execution_count": 30,
   "id": "c12ead9f91f25283",
   "metadata": {
    "ExecuteTime": {
     "end_time": "2023-11-02T15:30:25.591986Z",
     "start_time": "2023-11-02T15:30:25.567541Z"
    },
    "collapsed": false,
    "jupyter": {
     "outputs_hidden": false
    }
   },
   "outputs": [],
   "source": [
    "# avg daily distinct user session "
   ]
  },
  {
   "cell_type": "code",
   "execution_count": 31,
   "id": "a43f640fd0b5d624",
   "metadata": {
    "ExecuteTime": {
     "end_time": "2023-11-02T15:30:25.755020Z",
     "start_time": "2023-11-02T15:30:25.583165Z"
    },
    "collapsed": false,
    "jupyter": {
     "outputs_hidden": false
    }
   },
   "outputs": [],
   "source": [
    "df_daily_users_distinct = df.groupBy('date').agg(countDistinct('user_id').alias(\"distinct_users\"))"
   ]
  },
  {
   "cell_type": "code",
   "execution_count": 32,
   "id": "2809b892b998edac",
   "metadata": {
    "ExecuteTime": {
     "end_time": "2023-11-02T15:31:37.542524Z",
     "start_time": "2023-11-02T15:30:25.745662Z"
    },
    "collapsed": false,
    "jupyter": {
     "outputs_hidden": false
    }
   },
   "outputs": [
    {
     "name": "stdout",
     "output_type": "stream",
     "text": [
      "+----------+--------------+\n",
      "|      date|distinct_users|\n",
      "+----------+--------------+\n",
      "|2020-03-01|          4880|\n",
      "|2020-02-29|         18552|\n",
      "|2020-02-28|         19447|\n",
      "|2020-02-27|         20933|\n",
      "|2020-02-26|         20222|\n",
      "|2020-02-25|         20332|\n",
      "|2020-02-24|         18212|\n",
      "|2020-02-23|         15806|\n",
      "|2020-02-22|         15902|\n",
      "|2020-02-21|         17577|\n",
      "|2020-02-20|         19104|\n",
      "|2020-02-19|         20334|\n",
      "|2020-02-18|         20699|\n",
      "|2020-02-17|         20323|\n",
      "|2020-02-16|         19044|\n",
      "|2020-02-15|         17156|\n",
      "|2020-02-14|         17426|\n",
      "|2020-02-13|         19950|\n",
      "|2020-02-12|         21339|\n",
      "|2020-02-11|         20975|\n",
      "+----------+--------------+\n"
     ]
    }
   ],
   "source": [
    "df_daily_users_distinct.sort(desc(\"date\")).show()"
   ]
  },
  {
   "cell_type": "code",
   "execution_count": 33,
   "id": "cf88cef7697ed255",
   "metadata": {
    "ExecuteTime": {
     "end_time": "2023-11-02T15:33:46.882836Z",
     "start_time": "2023-11-02T15:31:34.123229Z"
    },
    "collapsed": false,
    "jupyter": {
     "outputs_hidden": false
    }
   },
   "outputs": [],
   "source": [
    "# Convert Spark DataFrame to pandas DataFrame\n",
    "pandas_df_1 = df_daily_users_distinct.toPandas()\n",
    "pandas_df_1[\"date\"] = pandas_df_1['date'].apply(lambda x: pd.to_datetime(x))\n",
    "date_range = pd.date_range(start=pandas_df_1['date'].min(), end=pandas_df_1['date'].max(), freq='D')"
   ]
  },
  {
   "cell_type": "code",
   "execution_count": 34,
   "id": "73a91b23f43ff7dd",
   "metadata": {
    "ExecuteTime": {
     "end_time": "2023-11-02T15:33:48.287845Z",
     "start_time": "2023-11-02T15:33:46.932468Z"
    },
    "collapsed": false,
    "jupyter": {
     "outputs_hidden": false
    }
   },
   "outputs": [
    {
     "data": {
      "image/png": "[encoded data removed]",
      "text/plain": [
       "<Figure size 864x2880 with 1 Axes>"
      ]
     },
     "metadata": {
      "needs_background": "light"
     },
     "output_type": "display_data"
    }
   ],
   "source": [
    "plt.figure(figsize=(12,40))\n",
    "\n",
    "plt.barh(pandas_df_1['date'], pandas_df_1['distinct_users'], color='red')\n",
    "\n",
    "plt.ylabel('Date')\n",
    "plt.xlabel('Daily Distinct Users ')\n",
    "plt.title('Daily Distinct User Session Over Time')\n",
    "\n",
    "# This arrangement will display one date label per week \n",
    "plt.gca().yaxis.set_major_locator(mdates.WeekdayLocator(interval=1))\n",
    "plt.gca().yaxis.set_major_formatter(mdates.DateFormatter('%Y-%m-%d'))\n",
    "\n",
    "plt.show()"
   ]
  },
  {
   "cell_type": "code",
   "execution_count": 34,
   "id": "5543cbde222a3c38",
   "metadata": {
    "ExecuteTime": {
     "end_time": "2023-11-02T15:33:48.288043Z",
     "start_time": "2023-11-02T15:33:48.265119Z"
    },
    "collapsed": false,
    "jupyter": {
     "outputs_hidden": false
    }
   },
   "outputs": [],
   "source": []
  },
  {
   "cell_type": "code",
   "execution_count": 35,
   "id": "641296e032114ebc",
   "metadata": {
    "ExecuteTime": {
     "end_time": "2023-11-02T15:33:48.288257Z",
     "start_time": "2023-11-02T15:33:48.265395Z"
    },
    "collapsed": false,
    "jupyter": {
     "outputs_hidden": false
    }
   },
   "outputs": [],
   "source": [
    "# Average User Sessions Daily"
   ]
  },
  {
   "cell_type": "code",
   "execution_count": 36,
   "id": "712e43e2c282a149",
   "metadata": {
    "ExecuteTime": {
     "end_time": "2023-11-02T15:33:50.979254Z",
     "start_time": "2023-11-02T15:33:48.273492Z"
    },
    "collapsed": false,
    "jupyter": {
     "outputs_hidden": false
    }
   },
   "outputs": [],
   "source": [
    "df_daily_user = df.groupby(\"date\", \"user_id\").agg(count(\"user_session\").alias(\"sessions_per_user\")).groupby(\"date\").agg(avg(\"sessions_per_user\").alias(\"avg_daily_user_session\"))"
   ]
  },
  {
   "cell_type": "code",
   "execution_count": 37,
   "id": "ae9b698b06f7ac63",
   "metadata": {
    "ExecuteTime": {
     "end_time": "2023-11-02T15:34:56.831471Z",
     "start_time": "2023-11-02T15:33:50.989002Z"
    },
    "collapsed": false,
    "jupyter": {
     "outputs_hidden": false
    }
   },
   "outputs": [
    {
     "name": "stdout",
     "output_type": "stream",
     "text": [
      "+----------+----------------------+\n",
      "|      date|avg_daily_user_session|\n",
      "+----------+----------------------+\n",
      "|2020-03-01|     7.056352459016393|\n",
      "|2020-02-29|     7.132977576541613|\n",
      "|2020-02-28|     7.187072556178331|\n",
      "|2020-02-27|     7.153250847943439|\n",
      "|2020-02-26|     7.427405795668085|\n",
      "|2020-02-25|     7.792986425339366|\n",
      "|2020-02-24|     7.601087195255875|\n",
      "|2020-02-23|     7.455080349234468|\n",
      "|2020-02-22|     6.764369261728085|\n",
      "|2020-02-21|     6.761904761904762|\n",
      "|2020-02-20|      7.05983040201005|\n",
      "|2020-02-19|    7.4462476640110165|\n",
      "|2020-02-18|     7.238997052997729|\n",
      "|2020-02-17|     7.147862028243861|\n",
      "|2020-02-16|     7.227105650073514|\n",
      "|2020-02-15|     7.023840055957099|\n",
      "|2020-02-14|     7.174681510386779|\n",
      "|2020-02-13|     7.335238095238095|\n",
      "|2020-02-12|     7.651342612118656|\n",
      "|2020-02-11|     7.125625744934446|\n",
      "+----------+----------------------+\n"
     ]
    }
   ],
   "source": [
    "df_daily_user.sort(desc(\"date\")).show()"
   ]
  },
  {
   "cell_type": "code",
   "execution_count": 37,
   "id": "dce6bec81fca5f92",
   "metadata": {
    "ExecuteTime": {
     "end_time": "2023-11-02T15:34:56.832805Z",
     "start_time": "2023-11-02T15:34:56.776529Z"
    },
    "collapsed": false,
    "jupyter": {
     "outputs_hidden": false
    }
   },
   "outputs": [],
   "source": []
  },
  {
   "cell_type": "code",
   "execution_count": 38,
   "id": "55117a01da12bcf2",
   "metadata": {
    "ExecuteTime": {
     "end_time": "2023-11-02T15:35:56.388864Z",
     "start_time": "2023-11-02T15:34:56.785556Z"
    },
    "collapsed": false,
    "jupyter": {
     "outputs_hidden": false
    }
   },
   "outputs": [],
   "source": [
    "# Convert Spark DataFrame to pandas DataFrame\n",
    "pandas_df = df_daily_user.toPandas()\n",
    "pandas_df[\"date\"] = pandas_df['date'].apply(lambda x: pd.to_datetime(x))"
   ]
  },
  {
   "cell_type": "code",
   "execution_count": 39,
   "id": "76ca9bd8ce6bdee7",
   "metadata": {
    "ExecuteTime": {
     "end_time": "2023-11-02T15:35:57.393504Z",
     "start_time": "2023-11-02T15:35:56.476307Z"
    },
    "collapsed": false,
    "jupyter": {
     "outputs_hidden": false
    }
   },
   "outputs": [
    {
     "data": {
      "image/png": "[encoded data removed]",
      "text/plain": [
       "<Figure size 864x2880 with 1 Axes>"
      ]
     },
     "metadata": {
      "needs_background": "light"
     },
     "output_type": "display_data"
    }
   ],
   "source": [
    "plt.figure(figsize=(12,40))\n",
    "\n",
    "plt.barh(pandas_df['date'], pandas_df['avg_daily_user_session'], color='blue')\n",
    "\n",
    "plt.ylabel('Date')\n",
    "plt.xlabel('Average Daily User Session')\n",
    "plt.title('Average Daily User Session Over Time')\n",
    "\n",
    "# This arrangement will display one date label per week \n",
    "plt.gca().yaxis.set_major_locator(mdates.WeekdayLocator(interval=1))\n",
    "plt.gca().yaxis.set_major_formatter(mdates.DateFormatter('%Y-%m-%d'))\n",
    "\n",
    "plt.show()"
   ]
  },
  {
   "cell_type": "code",
   "execution_count": 39,
   "id": "ce5f6d44fd5b942c",
   "metadata": {
    "ExecuteTime": {
     "end_time": "2023-11-02T15:35:57.394004Z",
     "start_time": "2023-11-02T15:35:57.381683Z"
    },
    "collapsed": false,
    "jupyter": {
     "outputs_hidden": false
    }
   },
   "outputs": [],
   "source": []
  },
  {
   "cell_type": "code",
   "execution_count": 40,
   "id": "ee96f7ae844dc744",
   "metadata": {
    "ExecuteTime": {
     "end_time": "2023-11-02T15:35:57.394103Z",
     "start_time": "2023-11-02T15:35:57.384415Z"
    },
    "collapsed": false,
    "jupyter": {
     "outputs_hidden": false
    }
   },
   "outputs": [],
   "source": [
    "@udf(returnType=StringType())\n",
    "def get_week(date_str):\n",
    "    date_format = \"%Y-%m-%d\"  # adjust to your date format\n",
    "    date = datetime.strptime(str(date_str), date_format)\n",
    "    week_start = date - timedelta(days=date.weekday())\n",
    "    week_end = week_start + timedelta(days=6)\n",
    "    return week_start.strftime(date_format) + \"/\" + week_end.strftime(date_format)"
   ]
  },
  {
   "cell_type": "code",
   "execution_count": 41,
   "id": "1ac94cd8faf3aeee",
   "metadata": {
    "ExecuteTime": {
     "end_time": "2023-11-02T15:35:57.973638Z",
     "start_time": "2023-11-02T15:35:57.390008Z"
    },
    "collapsed": false,
    "jupyter": {
     "outputs_hidden": false
    }
   },
   "outputs": [],
   "source": [
    "df_with_week = df.withColumn('week', get_week(df['date']))"
   ]
  },
  {
   "cell_type": "code",
   "execution_count": 42,
   "id": "aea816d815eb1d39",
   "metadata": {
    "ExecuteTime": {
     "end_time": "2023-11-02T15:35:58.024737Z",
     "start_time": "2023-11-02T15:35:57.821886Z"
    },
    "collapsed": false,
    "jupyter": {
     "outputs_hidden": false
    }
   },
   "outputs": [],
   "source": [
    "df_week_distinct_user = df_with_week.groupby(\"week\").agg(countDistinct('user_id').alias(\"distinct_users\"))"
   ]
  },
  {
   "cell_type": "code",
   "execution_count": null,
   "id": "a1aa050d539853c2",
   "metadata": {
    "ExecuteTime": {
     "start_time": "2023-11-02T15:35:57.939714Z"
    },
    "collapsed": false,
    "is_executing": true,
    "jupyter": {
     "outputs_hidden": false
    }
   },
   "outputs": [
    {
     "name": "stderr",
     "output_type": "stream",
     "text": [
      "ERROR:root:KeyboardInterrupt while sending command.\n",
      "Traceback (most recent call last):\n",
      "  File \"/usr/local/spark-3.2.1-bin-hadoop3.2/python/lib/py4j-0.10.9.3-src.zip/py4j/java_gateway.py\", line 1038, in send_command\n",
      "    response = connection.send_command(command)\n",
      "  File \"/usr/local/spark-3.2.1-bin-hadoop3.2/python/lib/py4j-0.10.9.3-src.zip/py4j/clientserver.py\", line 475, in send_command\n",
      "    answer = smart_decode(self.stream.readline()[:-1])\n",
      "  File \"/Users/mudit.rathore/opt/anaconda3/lib/python3.8/socket.py\", line 669, in readinto\n",
      "    return self._sock.recv_into(b)\n",
      "KeyboardInterrupt\n"
     ]
    }
   ],
   "source": [
    "df_week_distinct_user.sort(desc(\"week\")).show()"
   ]
  },
  {
   "cell_type": "code",
   "execution_count": null,
   "id": "92fad0396421b6dd",
   "metadata": {
    "collapsed": false,
    "is_executing": true,
    "jupyter": {
     "outputs_hidden": false
    }
   },
   "outputs": [],
   "source": [
    "# Convert Spark DataFrame to pandas DataFrame\n",
    "pandas_df_3 = df_week_distinct_user.toPandas()\n",
    "# pandas_df_3[\"week\"] = pandas_df_3['week'].apply(lambda x: pd.to_datetime(x))"
   ]
  },
  {
   "cell_type": "code",
   "execution_count": null,
   "id": "a25ad6a31094253d",
   "metadata": {
    "collapsed": false,
    "is_executing": true,
    "jupyter": {
     "outputs_hidden": false
    }
   },
   "outputs": [],
   "source": [
    "import matplotlib.pyplot as plt\n",
    "import matplotlib.dates as mdates\n",
    "\n",
    "# Sort the df by 'week' column\n",
    "pandas_df_3 = pandas_df_3.sort_values('week')\n",
    "\n",
    "# Creating the bar plot\n",
    "plt.figure(figsize=(12,40))\n",
    "plt.barh(pandas_df_3['week'].astype('str'), pandas_df_3['distinct_users'], color='green')\n",
    "\n",
    "plt.ylabel('Week')\n",
    "plt.xlabel('Weekly Distinct Users')\n",
    "plt.title('Weekly Distinct User Session Over Time')\n",
    "\n",
    "# This arrangement will display one date label per week \n",
    "plt.gca().xaxis.set_major_locator(mdates.WeekdayLocator(interval=1))\n",
    "plt.gca().xaxis.set_major_formatter(mdates.DateFormatter('%Y-%m-%d'))\n",
    "plt.gca().invert_yaxis() # To display the earliest date at the bottom\n",
    "\n",
    "plt.show()"
   ]
  },
  {
   "cell_type": "code",
   "execution_count": null,
   "id": "94adeb43103222c1",
   "metadata": {
    "collapsed": false,
    "jupyter": {
     "outputs_hidden": false
    }
   },
   "outputs": [],
   "source": []
  },
  {
   "cell_type": "markdown",
   "id": "d84e4a7800563ed2",
   "metadata": {},
   "source": [
    "# product sales across the month, max, avg, week of month "
   ]
  },
  {
   "cell_type": "code",
   "execution_count": null,
   "id": "910d219f2cb8978c",
   "metadata": {
    "collapsed": false,
    "jupyter": {
     "outputs_hidden": false
    }
   },
   "outputs": [],
   "source": []
  },
  {
   "cell_type": "code",
   "execution_count": null,
   "id": "e86dc803d2727cfb",
   "metadata": {
    "collapsed": false,
    "jupyter": {
     "outputs_hidden": false
    }
   },
   "outputs": [],
   "source": []
  },
  {
   "cell_type": "markdown",
   "id": "857ca3993034ff37",
   "metadata": {},
   "source": [
    "# Working For User Session Related Data"
   ]
  },
  {
   "cell_type": "code",
   "execution_count": 49,
   "id": "4f48c17e44104010",
   "metadata": {
    "ExecuteTime": {
     "end_time": "2023-10-29T05:31:32.524132Z",
     "start_time": "2023-10-29T05:31:32.330718Z"
    },
    "collapsed": false,
    "jupyter": {
     "outputs_hidden": false
    }
   },
   "outputs": [],
   "source": [
    "#dropping the null in user_session\n",
    "df_session_no_null = df.na.drop(subset=[\"user_session\"])"
   ]
  },
  {
   "cell_type": "code",
   "execution_count": 50,
   "id": "54ac01563906f0fb",
   "metadata": {
    "ExecuteTime": {
     "end_time": "2023-10-29T05:31:46.791248Z",
     "start_time": "2023-10-29T05:31:32.495772Z"
    },
    "collapsed": false,
    "jupyter": {
     "outputs_hidden": false
    }
   },
   "outputs": [
    {
     "name": "stdout",
     "output_type": "stream",
     "text": [
      "+----------------+-------+\n",
      "|      event_type|  count|\n",
      "+----------------+-------+\n",
      "|            view|9657790|\n",
      "|            cart|5764557|\n",
      "|remove_from_cart|3978888|\n",
      "|        purchase|1287007|\n",
      "+----------------+-------+\n"
     ]
    }
   ],
   "source": [
    "df.groupBy(\"event_type\").count().sort(desc(\"count\")).show()"
   ]
  },
  {
   "cell_type": "code",
   "execution_count": 51,
   "id": "c8d4dd8cdad5df70",
   "metadata": {
    "ExecuteTime": {
     "end_time": "2023-10-29T05:32:04.944041Z",
     "start_time": "2023-10-29T05:31:46.804125Z"
    },
    "collapsed": false,
    "jupyter": {
     "outputs_hidden": false
    }
   },
   "outputs": [
    {
     "name": "stdout",
     "output_type": "stream",
     "text": [
      "+----------+------+\n",
      "|product_id| count|\n",
      "+----------+------+\n",
      "|   5809910|141561|\n",
      "|   5809912| 55578|\n",
      "|   5700037| 51097|\n",
      "|   5802432| 45001|\n",
      "|   5854897| 44778|\n",
      "|   5751422| 43241|\n",
      "|   5751383| 43104|\n",
      "|   5815662| 41287|\n",
      "|   5849033| 37630|\n",
      "|   5809911| 36172|\n",
      "|   5816170| 32208|\n",
      "|   5792800| 31087|\n",
      "|   5877454| 30289|\n",
      "|   5686925| 28359|\n",
      "|   5649236| 25009|\n",
      "|   5528035| 24761|\n",
      "|   5790563| 23821|\n",
      "|   5877456| 23803|\n",
      "|   5856186| 23762|\n",
      "|      5304| 23729|\n",
      "+----------+------+\n"
     ]
    }
   ],
   "source": [
    "df.groupBy(\"product_id\").count().sort(desc(\"count\")).show()"
   ]
  },
  {
   "cell_type": "code",
   "execution_count": 52,
   "id": "15bf4eab1505a132",
   "metadata": {
    "ExecuteTime": {
     "end_time": "2023-10-29T05:32:18.247469Z",
     "start_time": "2023-10-29T05:32:04.948363Z"
    },
    "collapsed": false,
    "jupyter": {
     "outputs_hidden": false
    }
   },
   "outputs": [
    {
     "name": "stdout",
     "output_type": "stream",
     "text": [
      "+-------------------+-------+\n",
      "|        category_id|  count|\n",
      "+-------------------+-------+\n",
      "|1487580007675986893|1062619|\n",
      "|1487580005595612013| 789423|\n",
      "|1487580005092295511| 770878|\n",
      "|1487580005671109489| 680617|\n",
      "|1487580006317032337| 646659|\n",
      "|1602943681873052386| 640727|\n",
      "|1487580005268456287| 448730|\n",
      "|1487580013841613016| 397879|\n",
      "|1487580005134238553| 397102|\n",
      "|1487580008246412266| 375079|\n",
      "|1487580009286598681| 371270|\n",
      "|1487580005754995573| 369210|\n",
      "|1487580006300255120| 315299|\n",
      "|1487580013950664926| 288392|\n",
      "|1487580009445982239| 281941|\n",
      "|1487580008145748965| 277481|\n",
      "|1487580005713052531| 264503|\n",
      "|1487580005511725929| 257261|\n",
      "|1487580005427839846| 249260|\n",
      "|1487580004916134735| 245277|\n",
      "+-------------------+-------+\n"
     ]
    }
   ],
   "source": [
    "df.groupBy(\"category_id\").count().sort(desc(\"count\")).show()"
   ]
  },
  {
   "cell_type": "code",
   "execution_count": 53,
   "id": "fc234c84ec69d02",
   "metadata": {
    "ExecuteTime": {
     "end_time": "2023-10-29T05:32:18.479316Z",
     "start_time": "2023-10-29T05:32:18.256483Z"
    },
    "collapsed": false,
    "jupyter": {
     "outputs_hidden": false
    }
   },
   "outputs": [],
   "source": []
  },
  {
   "cell_type": "code",
   "execution_count": 54,
   "id": "e7553cfacc85a461",
   "metadata": {
    "ExecuteTime": {
     "end_time": "2023-10-29T05:32:18.497610Z",
     "start_time": "2023-10-29T05:32:18.480261Z"
    },
    "collapsed": false,
    "jupyter": {
     "outputs_hidden": false
    }
   },
   "outputs": [
    {
     "data": {
      "text/plain": [
       "['event_time',\n",
       " 'event_type',\n",
       " 'product_id',\n",
       " 'category_id',\n",
       " 'category_code',\n",
       " 'brand',\n",
       " 'price',\n",
       " 'user_id',\n",
       " 'user_session',\n",
       " 'date',\n",
       " 'month',\n",
       " 'year',\n",
       " 'time',\n",
       " 'day_of_week']"
      ]
     },
     "execution_count": 54,
     "metadata": {},
     "output_type": "execute_result"
    }
   ],
   "source": [
    "df.columns"
   ]
  },
  {
   "cell_type": "code",
   "execution_count": 56,
   "id": "f2551330ef34c2b",
   "metadata": {
    "ExecuteTime": {
     "end_time": "2023-10-29T05:51:21.443755Z",
     "start_time": "2023-10-29T05:51:21.141984Z"
    },
    "collapsed": false,
    "jupyter": {
     "outputs_hidden": false
    }
   },
   "outputs": [],
   "source": [
    "windowSpec = Window.partitionBy(\"user_id\", \"product_id\").orderBy(\"event_time\")"
   ]
  },
  {
   "cell_type": "code",
   "execution_count": 59,
   "id": "fbeb484d9c599fc5",
   "metadata": {
    "ExecuteTime": {
     "end_time": "2023-10-29T05:55:05.131703Z",
     "start_time": "2023-10-29T05:55:04.914742Z"
    },
    "collapsed": false,
    "jupyter": {
     "outputs_hidden": false
    }
   },
   "outputs": [],
   "source": [
    "df = df.withColumn(\"prev_event_type\", lag(df['event_type']).over(windowSpec))"
   ]
  },
  {
   "cell_type": "code",
   "execution_count": 60,
   "id": "976582712339b326",
   "metadata": {
    "ExecuteTime": {
     "end_time": "2023-10-29T05:55:07.169711Z",
     "start_time": "2023-10-29T05:55:06.735768Z"
    },
    "collapsed": false,
    "jupyter": {
     "outputs_hidden": false
    }
   },
   "outputs": [],
   "source": [
    "# Define session transitions: view to cart, cart to purchase or remove from cart\n",
    "df = df.withColumn('session_transition',\n",
    "                   when((col('prev_event_type') == 'view') & (col('event_type') == 'cart'), 'view_to_cart')\n",
    "                   .when((col('prev_event_type') == 'cart') &\n",
    "                         ((col('event_type') == 'purchase') | (col('event_type') == 'remove_from_cart')), 'cart_to_purchase/remove')\n",
    "                   .otherwise(None))"
   ]
  },
  {
   "cell_type": "code",
   "execution_count": 61,
   "id": "91fbbac17683c17f",
   "metadata": {
    "ExecuteTime": {
     "end_time": "2023-10-29T05:55:58.571085Z",
     "start_time": "2023-10-29T05:55:11.605926Z"
    },
    "collapsed": false,
    "jupyter": {
     "outputs_hidden": false
    }
   },
   "outputs": [
    {
     "name": "stdout",
     "output_type": "stream",
     "text": [
      "+-------------------+----------------+----------+-------------------+-------------+----------+-----+---------+--------------------+----+-----+----+--------+-----------+----------------+--------------------+\n",
      "|         event_time|      event_type|product_id|        category_id|category_code|     brand|price|  user_id|        user_session|date|month|year|    time|day_of_week| prev_event_type|  session_transition|\n",
      "+-------------------+----------------+----------+-------------------+-------------+----------+-----+---------+--------------------+----+-----+----+--------+-----------+----------------+--------------------+\n",
      "|2019-10-10 19:41:28|            view|   5776130|1487580013472514244|         null|art-visage| 1.98|100015010|852f0890-41c4-487...|  10|   10|2019|19:41:28|        Thu|            null|                null|\n",
      "|2020-02-04 13:20:46|            view|   5870963|1487580012809814181|         null|    masura| 7.44|101025416|d3023693-0657-4bc...|   4|    2|2020|13:20:46|        Tue|            null|                null|\n",
      "|2020-02-04 18:50:09|            cart|   5815661|1487580006317032337|         null|      null| 0.00| 10120387|b42df7d9-5a1d-4d5...|   4|    2|2020|18:50:09|        Tue|            null|                null|\n",
      "|2020-01-30 13:28:19|            view|   5533713|1487580009387261981|         null|      null| 6.35|101245254|3009dccd-3b0a-4f6...|  30|    1|2020|13:28:19|        Thu|            null|                null|\n",
      "|2019-11-30 16:10:45|            view|   5815493|1487580010125459512|         null|      null| 1.21|101281763|12108fb2-3939-40d...|  30|   11|2019|16:10:45|        Sat|            null|                null|\n",
      "|2019-11-30 16:12:00|            cart|   5815493|1487580010125459512|         null|      null| 1.21|101281763|12108fb2-3939-40d...|  30|   11|2019|16:12:00|        Sat|            view|        view_to_cart|\n",
      "|2019-11-30 16:18:31|        purchase|   5815493|1487580010125459512|         null|      null| 1.21|101281763|12108fb2-3939-40d...|  30|   11|2019|16:18:31|        Sat|            cart|cart_to_purchase/...|\n",
      "|2019-11-30 15:58:18|            view|   5854900|2089259162625114209|         null|     irisk| 0.59|101281763|12108fb2-3939-40d...|  30|   11|2019|15:58:18|        Sat|            null|                null|\n",
      "|2019-11-30 15:59:42|            view|   5854900|2089259162625114209|         null|     irisk| 0.59|101281763|12108fb2-3939-40d...|  30|   11|2019|15:59:42|        Sat|            view|                null|\n",
      "|2020-02-10 20:08:33|            cart|   5877490|1487580007675986893|         null| freedecor| 2.38|101527411|62ca38df-d844-4d8...|  10|    2|2020|20:08:33|        Mon|            null|                null|\n",
      "|2020-02-11 00:58:24|remove_from_cart|   5877490|1487580007675986893|         null| freedecor| 2.38|101527411|2e485b31-150a-ff3...|  11|    2|2020|00:58:24|        Tue|            cart|cart_to_purchase/...|\n",
      "|2020-01-21 22:55:52|            cart|   5751422|1487580005268456287|         null|       uno|10.95|101571486|69be3bbc-c7e0-47f...|  21|    1|2020|22:55:52|        Tue|            null|                null|\n",
      "|2020-01-21 23:07:10|            cart|   5751422|1487580005268456287|         null|       uno|10.95|101571486|69be3bbc-c7e0-47f...|  21|    1|2020|23:07:10|        Tue|            cart|                null|\n",
      "|2020-01-22 00:06:18|remove_from_cart|   5751422|1487580005268456287|         null|       uno|10.95|101571486|69be3bbc-c7e0-47f...|  22|    1|2020|00:06:18|        Wed|            cart|cart_to_purchase/...|\n",
      "|2020-01-22 00:10:48|        purchase|   5751422|1487580005268456287|         null|       uno|10.95|101571486|69be3bbc-c7e0-47f...|  22|    1|2020|00:10:48|        Wed|remove_from_cart|                null|\n",
      "|2019-11-08 04:26:54|            cart|   5639725|1487580005595612013|         null|      null| 3.00|101779631|371642d1-ced4-4aa...|   8|   11|2019|04:26:54|        Fri|            null|                null|\n",
      "|2019-11-23 05:47:05|remove_from_cart|   5639725|1487580005595612013|         null|      null| 2.84|101779631|8024dd29-d88f-4c2...|  23|   11|2019|05:47:05|        Sat|            cart|cart_to_purchase/...|\n",
      "|2019-11-08 17:27:15|            cart|   5711089|1487580005008409427|         null|     f.o.x| 3.02|101779631|7125a1ac-2ea1-32f...|   8|   11|2019|17:27:15|        Fri|            null|                null|\n",
      "|2019-11-29 04:55:33|remove_from_cart|   5711089|1487580005008409427|         null|     f.o.x| 3.02|101779631|f4318b90-b1ac-c1a...|  29|   11|2019|04:55:33|        Fri|            cart|cart_to_purchase/...|\n",
      "|2019-11-08 17:20:40|            cart|   5714901|1487580005511725929|         null|      null| 4.27|101779631|371642d1-ced4-4aa...|   8|   11|2019|17:20:40|        Fri|            null|                null|\n",
      "+-------------------+----------------+----------+-------------------+-------------+----------+-----+---------+--------------------+----+-----+----+--------+-----------+----------------+--------------------+\n"
     ]
    }
   ],
   "source": [
    "df.show()"
   ]
  },
  {
   "cell_type": "code",
   "execution_count": 65,
   "id": "5d4bd4438a67b307",
   "metadata": {
    "ExecuteTime": {
     "end_time": "2023-10-29T05:59:01.736008Z",
     "start_time": "2023-10-29T05:58:14.372636Z"
    },
    "collapsed": false,
    "jupyter": {
     "outputs_hidden": false
    }
   },
   "outputs": [
    {
     "name": "stdout",
     "output_type": "stream",
     "text": [
      "+---------+----------+--------------------+------------+\n",
      "|  user_id|product_id|  session_transition|num_sessions|\n",
      "+---------+----------+--------------------+------------+\n",
      "|531900924|   5809910|cart_to_purchase/...|          65|\n",
      "|463646608|   5840415|cart_to_purchase/...|          38|\n",
      "|471197852|   5809910|cart_to_purchase/...|          34|\n",
      "|463646608|   5857959|cart_to_purchase/...|          33|\n",
      "|570030304|   5809912|cart_to_purchase/...|          32|\n",
      "|443045778|   5751422|cart_to_purchase/...|          31|\n",
      "|236201323|   5700038|cart_to_purchase/...|          28|\n",
      "|230818889|   5751422|cart_to_purchase/...|          27|\n",
      "|463646608|   5887733|cart_to_purchase/...|          27|\n",
      "|531900924|   5751422|cart_to_purchase/...|          27|\n",
      "|463646608|   5688035|cart_to_purchase/...|          26|\n",
      "|538069676|   5802432|cart_to_purchase/...|          24|\n",
      "|463646608|   5688696|cart_to_purchase/...|          24|\n",
      "|583947345|   5700035|cart_to_purchase/...|          24|\n",
      "|463646608|   5732030|cart_to_purchase/...|          23|\n",
      "|468907816|   5687151|cart_to_purchase/...|          23|\n",
      "|463646608|   5569518|cart_to_purchase/...|          23|\n",
      "|463646608|   5753481|cart_to_purchase/...|          23|\n",
      "|583947345|   5839641|cart_to_purchase/...|          23|\n",
      "|607311688|   5726126|cart_to_purchase/...|          23|\n",
      "+---------+----------+--------------------+------------+\n"
     ]
    }
   ],
   "source": [
    "# Calculate number of sessions for each session transition.\n",
    "df = df.groupBy('user_id', 'product_id', 'session_transition').agg(count('session_transition').alias('num_sessions')).sort(desc(\"num_sessions\"))"
   ]
  },
  {
   "cell_type": "code",
   "execution_count": 67,
   "id": "69f300eb4c1ae26d",
   "metadata": {
    "ExecuteTime": {
     "end_time": "2023-10-29T06:04:47.176626Z",
     "start_time": "2023-10-29T06:04:46.832113Z"
    },
    "collapsed": false,
    "jupyter": {
     "outputs_hidden": false
    }
   },
   "outputs": [],
   "source": [
    "# To find products that are in the same start (view_cart), simply filter results based on session transition\n",
    "df_view_cart = df.filter(col('session_transition') == 'view_to_cart')\n",
    "\n",
    "# Define a window that also includes session_transition\n",
    "windowSpec2 = Window.partitionBy('user_id', 'product_id', 'session_transition').orderBy('event_time')\n",
    "\n",
    "# Get the start and end dates for each session transition\n",
    "df = df.withColumn('start_date', first(to_date('event_time')).over(windowSpec2))\n",
    "df = df.withColumn('end_date', last(to_date('event_time')).over(windowSpec2))"
   ]
  },
  {
   "cell_type": "code",
   "execution_count": 66,
   "id": "e2933c3854d4e650",
   "metadata": {
    "ExecuteTime": {
     "end_time": "2023-10-29T06:02:00.170065Z",
     "start_time": "2023-10-29T06:02:00.155484Z"
    },
    "collapsed": false,
    "jupyter": {
     "outputs_hidden": false
    }
   },
   "outputs": [],
   "source": [
    "# maximum session in a day,"
   ]
  },
  {
   "cell_type": "code",
   "execution_count": null,
   "id": "e5852a3f41b933dc",
   "metadata": {
    "collapsed": false,
    "jupyter": {
     "outputs_hidden": false
    }
   },
   "outputs": [],
   "source": []
  }
 ],
 "metadata": {
  "kernelspec": {
   "display_name": "Python 3",
   "language": "python",
   "name": "python3"
  },
  "language_info": {
   "codemirror_mode": {
    "name": "ipython",
    "version": 3
   },
   "file_extension": ".py",
   "mimetype": "text/x-python",
   "name": "python",
   "nbconvert_exporter": "python",
   "pygments_lexer": "ipython3",
   "version": "3.8.8"
  }
 },
 "nbformat": 4,
 "nbformat_minor": 5
}
